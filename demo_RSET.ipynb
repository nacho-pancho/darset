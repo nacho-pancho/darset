{
  "nbformat": 4,
  "nbformat_minor": 0,
  "metadata": {
    "colab": {
      "name": "demo_rec.ipynb",
      "provenance": [],
      "collapsed_sections": [],
      "include_colab_link": true
    },
    "kernelspec": {
      "name": "python3",
      "display_name": "Python 3"
    }
  },
  "cells": [
    {
      "cell_type": "markdown",
      "metadata": {
        "id": "view-in-github",
        "colab_type": "text"
      },
      "source": [
        "<a href=\"https://colab.research.google.com/github/nacho-pancho/darset/blob/master/demo_rec.ipynb\" target=\"_parent\"><img src=\"https://colab.research.google.com/assets/colab-badge.svg\" alt=\"Open In Colab\"/></a>"
      ]
    },
    {
      "cell_type": "code",
      "metadata": {
        "id": "zw5o1RCL99VI",
        "colab_type": "code",
        "outputId": "5defaa45-9afb-4370-885a-782c63e8d86f",
        "colab": {
          "base_uri": "https://localhost:8080/",
          "height": 53
        }
      },
      "source": [
        "#\n",
        "# dependencias\n",
        "#\n",
        "#!pip install pandas\n",
        "#\n",
        "#\n",
        "#\n",
        "import os\n",
        "import os.path\n",
        "import subprocess\n",
        "print('Bajando darset de GIT')\n",
        "#\n",
        "# bajamos ultima version de darset\n",
        "#\n",
        "if os.path.exists('darset'):\n",
        "  os.system('rm -rf darset')  \n",
        "subprocess.check_output(['git','clone','http://@github.com/nacho-pancho/darset.git'])\n"
      ],
      "execution_count": 1,
      "outputs": [
        {
          "output_type": "stream",
          "text": [
            "Bajando darset de GIT\n"
          ],
          "name": "stdout"
        },
        {
          "output_type": "execute_result",
          "data": {
            "text/plain": [
              "b''"
            ]
          },
          "metadata": {
            "tags": []
          },
          "execution_count": 1
        }
      ]
    },
    {
      "cell_type": "code",
      "metadata": {
        "id": "YkBOzI912K08",
        "colab_type": "code",
        "outputId": "d963e4aa-5ae8-4187-c8f3-72b38204c16c",
        "colab": {
          "base_uri": "https://localhost:8080/",
          "height": 35
        }
      },
      "source": [
        "\n",
        "#\n",
        "# bajamos datos\n",
        "#\n",
        "print('Bajando los datos')\n",
        "os.chdir('darset/data')\n",
        "os.system('./get_data.sh')\n",
        "os.chdir('../../')\n",
        "\n"
      ],
      "execution_count": 0,
      "outputs": [
        {
          "output_type": "stream",
          "text": [
            "Bajando los datos\n"
          ],
          "name": "stdout"
        }
      ]
    },
    {
      "cell_type": "code",
      "metadata": {
        "id": "kZknpgnY-Dry",
        "colab_type": "code",
        "outputId": "48ef809b-a327-4bfb-a6a8-07053e7d6f26",
        "colab": {
          "base_uri": "https://localhost:8080/",
          "height": 35
        }
      },
      "source": [
        "#\n",
        "# vamos alla\n",
        "#\n",
        "print('Cambiando a directorio de codigo')\n",
        "os.chdir('darset/code')\n",
        "#\n",
        "# cargamos modulos\n",
        "#\n",
        "import archivos\n",
        "import filtros\n",
        "import graficas\n"
      ],
      "execution_count": 0,
      "outputs": [
        {
          "output_type": "stream",
          "text": [
            "Cambiando a directorio de codigo\n"
          ],
          "name": "stdout"
        }
      ]
    },
    {
      "cell_type": "code",
      "metadata": {
        "id": "fUC8x6xT-kKY",
        "colab_type": "code",
        "outputId": "a296b315-3c0f-4b80-ceae-53c00f7e60ae",
        "colab": {
          "base_uri": "https://localhost:8080/",
          "height": 427
        }
      },
      "source": [
        "import matplotlib.pyplot as plt\n",
        "\n",
        "nidCentral = 5\n",
        "#med_10min, med_15min = archivos.leerArchiSMEC(nidCentral)\n",
        "parque = archivos.leerArchi(nidCentral,'scada')\n",
        "#parque2 = archivos.leerArchi(nidCentral,'gen') \n",
        "medidor_pronos10min = archivos.leerArchiPRONOS(nidCentral,10)\n",
        "#medidor_pronos60min = archivos.leerArchiPRONOS(nidCentral,60)\n",
        "\n",
        "#parque.pot_SMEC  = med_10min\n",
        "\n",
        "#vel_SCADA = parque.medidores[0].get_medida('vel')\n",
        "dir_SCADA = parque.medidores[0].get_medida('dir')\n",
        "#vel_GEN = parque2.medidores[0].get_medida('vel')\n",
        "\n",
        "#vel_pronos10min = medidor_pronos10min.get_medida('vel')\n",
        "dir_pronos10min = medidor_pronos10min.get_medida('dir')\n",
        "\n",
        "#    vel_pronos60min = medidor_pronos60min.get_medida('vel')\n",
        "#    dir_pronos60min = medidor_pronos60min.get_medida('dir')\n",
        "\n",
        "meds = []\n",
        "\n",
        "#filtro_total = dir_SCADA.filtrada()\n",
        "\n",
        "corr_dir_dir = filtros.corr_medidas(dir_SCADA,dir_pronos10min,12,1)\n",
        "#meds.append(corr_dir_dir)\n",
        "\n",
        "#decorr = parque.decorrelacion()\n",
        "#for v in decorr.values():\n",
        "#    meds.append(v)\n",
        "\n",
        "#meds.append(parque.pot)\n",
        "\n",
        "#meds.append(parque.cgm)\n",
        "\n",
        "meds.append(vel_SCADA)\n",
        "meds.append(vel_pronos10min)\n",
        "meds.append(vel_GEN)\n",
        "\n",
        "#meds.append(dir_SCADA)\n",
        "#meds.append(dir_pronos10min)\n",
        "#meds.append(dir_pronos60min)    \n",
        "\n",
        "#meds.append(med_10min)\n",
        "#meds.append(med_15min)\n",
        "\n",
        "plt.close('all')\n",
        "graficas.clickplot(meds)\n",
        "plt.show()\n",
        "\n"
      ],
      "execution_count": 0,
      "outputs": [
        {
          "output_type": "stream",
          "text": [
            "Leyendo archivo de central 5\n",
            "dt: min0:09:59.616000 med=0:09:59.616002 max=0:10:00.480000\n"
          ],
          "name": "stdout"
        },
        {
          "output_type": "error",
          "ename": "TypeError",
          "evalue": "ignored",
          "traceback": [
            "\u001b[0;31m---------------------------------------------------------------------------\u001b[0m",
            "\u001b[0;31mTypeError\u001b[0m                                 Traceback (most recent call last)",
            "\u001b[0;32m<ipython-input-4-6311ca27eff5>\u001b[0m in \u001b[0;36m<module>\u001b[0;34m()\u001b[0m\n\u001b[1;32m      3\u001b[0m \u001b[0mnidCentral\u001b[0m \u001b[0;34m=\u001b[0m \u001b[0;36m5\u001b[0m\u001b[0;34m\u001b[0m\u001b[0;34m\u001b[0m\u001b[0m\n\u001b[1;32m      4\u001b[0m \u001b[0;31m#med_10min, med_15min = archivos.leerArchiSMEC(nidCentral)\u001b[0m\u001b[0;34m\u001b[0m\u001b[0;34m\u001b[0m\u001b[0;34m\u001b[0m\u001b[0m\n\u001b[0;32m----> 5\u001b[0;31m \u001b[0mparque\u001b[0m \u001b[0;34m=\u001b[0m \u001b[0marchivos\u001b[0m\u001b[0;34m.\u001b[0m\u001b[0mleerArchi\u001b[0m\u001b[0;34m(\u001b[0m\u001b[0mnidCentral\u001b[0m\u001b[0;34m,\u001b[0m\u001b[0;34m'scada'\u001b[0m\u001b[0;34m)\u001b[0m\u001b[0;34m\u001b[0m\u001b[0;34m\u001b[0m\u001b[0m\n\u001b[0m\u001b[1;32m      6\u001b[0m \u001b[0;31m#parque2 = archivos.leerArchi(nidCentral,'gen')\u001b[0m\u001b[0;34m\u001b[0m\u001b[0;34m\u001b[0m\u001b[0;34m\u001b[0m\u001b[0m\n\u001b[1;32m      7\u001b[0m \u001b[0mmedidor_pronos10min\u001b[0m \u001b[0;34m=\u001b[0m \u001b[0marchivos\u001b[0m\u001b[0;34m.\u001b[0m\u001b[0mleerArchiPRONOS\u001b[0m\u001b[0;34m(\u001b[0m\u001b[0mnidCentral\u001b[0m\u001b[0;34m,\u001b[0m\u001b[0;36m10\u001b[0m\u001b[0;34m)\u001b[0m\u001b[0;34m\u001b[0m\u001b[0;34m\u001b[0m\u001b[0m\n",
            "\u001b[0;32m/content/darset/code/archivos.py\u001b[0m in \u001b[0;36mleerArchi\u001b[0;34m(nidCentral, tipoArchi)\u001b[0m\n\u001b[1;32m    170\u001b[0m         \u001b[0mnrep\u001b[0m \u001b[0;34m=\u001b[0m \u001b[0mfiltros\u001b[0m\u001b[0;34m.\u001b[0m\u001b[0mNrep\u001b[0m\u001b[0;34m(\u001b[0m\u001b[0mtipoDato\u001b[0m\u001b[0;34m)\u001b[0m\u001b[0;34m\u001b[0m\u001b[0;34m\u001b[0m\u001b[0m\n\u001b[1;32m    171\u001b[0m \u001b[0;34m\u001b[0m\u001b[0m\n\u001b[0;32m--> 172\u001b[0;31m         \u001b[0mmed\u001b[0m \u001b[0;34m=\u001b[0m \u001b[0mdatos\u001b[0m\u001b[0;34m.\u001b[0m\u001b[0mMedida\u001b[0m\u001b[0;34m(\u001b[0m\u001b[0mmeds\u001b[0m\u001b[0;34m,\u001b[0m\u001b[0mtiempo\u001b[0m\u001b[0;34m,\u001b[0m\u001b[0mtipoDato\u001b[0m\u001b[0;34m,\u001b[0m\u001b[0mnombre\u001b[0m\u001b[0;34m,\u001b[0m\u001b[0mminmax\u001b[0m\u001b[0;34m[\u001b[0m\u001b[0;36m0\u001b[0m\u001b[0;34m]\u001b[0m\u001b[0;34m,\u001b[0m\u001b[0mminmax\u001b[0m\u001b[0;34m[\u001b[0m\u001b[0;36m1\u001b[0m\u001b[0;34m]\u001b[0m\u001b[0;34m,\u001b[0m\u001b[0mnrep\u001b[0m\u001b[0;34m,\u001b[0m\u001b[0mdatetime\u001b[0m\u001b[0;34m.\u001b[0m\u001b[0mtimedelta\u001b[0m\u001b[0;34m(\u001b[0m\u001b[0mminutes\u001b[0m\u001b[0;34m=\u001b[0m\u001b[0;36m10\u001b[0m\u001b[0;34m)\u001b[0m\u001b[0;34m)\u001b[0m\u001b[0;34m\u001b[0m\u001b[0;34m\u001b[0m\u001b[0m\n\u001b[0m\u001b[1;32m    173\u001b[0m \u001b[0;34m\u001b[0m\u001b[0m\n\u001b[1;32m    174\u001b[0m         \u001b[0mdtini_filt\u001b[0m \u001b[0;34m=\u001b[0m \u001b[0mdatetime\u001b[0m\u001b[0;34m.\u001b[0m\u001b[0mdatetime\u001b[0m\u001b[0;34m.\u001b[0m\u001b[0mstrptime\u001b[0m\u001b[0;34m(\u001b[0m\u001b[0;34m'2015-10-01 00:00:0.0'\u001b[0m\u001b[0;34m,\u001b[0m \u001b[0;34m'%Y-%m-%d %H:%M:%S.%f'\u001b[0m\u001b[0;34m)\u001b[0m\u001b[0;34m\u001b[0m\u001b[0;34m\u001b[0m\u001b[0m\n",
            "\u001b[0;31mTypeError\u001b[0m: __init__() missing 1 required positional argument: 'nrep'"
          ]
        }
      ]
    }
  ]
}
